{
 "cells": [
  {
   "cell_type": "code",
   "execution_count": 11,
   "id": "d051f344",
   "metadata": {},
   "outputs": [],
   "source": [
    "import os \n",
    "import yfinance as yf\n",
    "import pandas as pd\n",
    "\n",
    "ticker = \"NVDA\""
   ]
  },
  {
   "cell_type": "code",
   "execution_count": 6,
   "id": "1a6e9f99",
   "metadata": {},
   "outputs": [],
   "source": [
    "t = yf.Ticker(ticker)\n",
    "data = t.history(period=\"1y\")"
   ]
  },
  {
   "cell_type": "code",
   "execution_count": null,
   "id": "9269738b",
   "metadata": {},
   "outputs": [],
   "source": [
    "df = data\n"
   ]
  },
  {
   "cell_type": "code",
   "execution_count": null,
   "id": "74e87ad4",
   "metadata": {},
   "outputs": [],
   "source": [
    "df['date'] = df.index\n",
    "df.reset_index(inplace=True,drop=True)"
   ]
  },
  {
   "cell_type": "code",
   "execution_count": 12,
   "id": "c1ee9fcf",
   "metadata": {},
   "outputs": [],
   "source": [
    "df['date'] = pd.to_datetime(df['date'])"
   ]
  },
  {
   "cell_type": "code",
   "execution_count": 19,
   "id": "8cdf68c4",
   "metadata": {},
   "outputs": [],
   "source": [
    "df['date'] = df['date'].dt.strftime('%Y-%m-%d')"
   ]
  },
  {
   "cell_type": "code",
   "execution_count": 20,
   "id": "acced73f",
   "metadata": {},
   "outputs": [
    {
     "data": {
      "application/vnd.microsoft.datawrangler.viewer.v0+json": {
       "columns": [
        {
         "name": "index",
         "rawType": "int64",
         "type": "integer"
        },
        {
         "name": "Open",
         "rawType": "float64",
         "type": "float"
        },
        {
         "name": "High",
         "rawType": "float64",
         "type": "float"
        },
        {
         "name": "Low",
         "rawType": "float64",
         "type": "float"
        },
        {
         "name": "Close",
         "rawType": "float64",
         "type": "float"
        },
        {
         "name": "Volume",
         "rawType": "int64",
         "type": "integer"
        },
        {
         "name": "Dividends",
         "rawType": "float64",
         "type": "float"
        },
        {
         "name": "Stock Splits",
         "rawType": "float64",
         "type": "float"
        },
        {
         "name": "date",
         "rawType": "object",
         "type": "string"
        }
       ],
       "ref": "c3bfae37-244d-41e1-9678-277f751c3ebd",
       "rows": [
        [
         "0",
         "124.5406566516343",
         "127.66966538119843",
         "122.71123277650611",
         "123.50098419189453",
         "315516700",
         "0.0",
         "0.0",
         "2024-06-28"
        ],
        [
         "1",
         "123.43101009570317",
         "124.80057257621507",
         "118.79247599150393",
         "124.26074981689453",
         "284885500",
         "0.0",
         "0.0",
         "2024-07-01"
        ],
        [
         "2",
         "121.09174909004807",
         "123.37103556099011",
         "120.99178219157349",
         "122.63126373291016",
         "218374000",
         "0.0",
         "0.0",
         "2024-07-02"
        ],
        [
         "3",
         "121.62158223669927",
         "128.23948669433594",
         "121.32167392885506",
         "128.23948669433594",
         "215749000",
         "0.0",
         "0.0",
         "2024-07-03"
        ],
        [
         "4",
         "127.33977391790616",
         "128.8093185769184",
         "125.64031378509098",
         "125.79026794433594",
         "214176700",
         "0.0",
         "0.0",
         "2024-07-05"
        ]
       ],
       "shape": {
        "columns": 8,
        "rows": 5
       }
      },
      "text/html": [
       "<div>\n",
       "<style scoped>\n",
       "    .dataframe tbody tr th:only-of-type {\n",
       "        vertical-align: middle;\n",
       "    }\n",
       "\n",
       "    .dataframe tbody tr th {\n",
       "        vertical-align: top;\n",
       "    }\n",
       "\n",
       "    .dataframe thead th {\n",
       "        text-align: right;\n",
       "    }\n",
       "</style>\n",
       "<table border=\"1\" class=\"dataframe\">\n",
       "  <thead>\n",
       "    <tr style=\"text-align: right;\">\n",
       "      <th></th>\n",
       "      <th>Open</th>\n",
       "      <th>High</th>\n",
       "      <th>Low</th>\n",
       "      <th>Close</th>\n",
       "      <th>Volume</th>\n",
       "      <th>Dividends</th>\n",
       "      <th>Stock Splits</th>\n",
       "      <th>date</th>\n",
       "    </tr>\n",
       "  </thead>\n",
       "  <tbody>\n",
       "    <tr>\n",
       "      <th>0</th>\n",
       "      <td>124.540657</td>\n",
       "      <td>127.669665</td>\n",
       "      <td>122.711233</td>\n",
       "      <td>123.500984</td>\n",
       "      <td>315516700</td>\n",
       "      <td>0.0</td>\n",
       "      <td>0.0</td>\n",
       "      <td>2024-06-28</td>\n",
       "    </tr>\n",
       "    <tr>\n",
       "      <th>1</th>\n",
       "      <td>123.431010</td>\n",
       "      <td>124.800573</td>\n",
       "      <td>118.792476</td>\n",
       "      <td>124.260750</td>\n",
       "      <td>284885500</td>\n",
       "      <td>0.0</td>\n",
       "      <td>0.0</td>\n",
       "      <td>2024-07-01</td>\n",
       "    </tr>\n",
       "    <tr>\n",
       "      <th>2</th>\n",
       "      <td>121.091749</td>\n",
       "      <td>123.371036</td>\n",
       "      <td>120.991782</td>\n",
       "      <td>122.631264</td>\n",
       "      <td>218374000</td>\n",
       "      <td>0.0</td>\n",
       "      <td>0.0</td>\n",
       "      <td>2024-07-02</td>\n",
       "    </tr>\n",
       "    <tr>\n",
       "      <th>3</th>\n",
       "      <td>121.621582</td>\n",
       "      <td>128.239487</td>\n",
       "      <td>121.321674</td>\n",
       "      <td>128.239487</td>\n",
       "      <td>215749000</td>\n",
       "      <td>0.0</td>\n",
       "      <td>0.0</td>\n",
       "      <td>2024-07-03</td>\n",
       "    </tr>\n",
       "    <tr>\n",
       "      <th>4</th>\n",
       "      <td>127.339774</td>\n",
       "      <td>128.809319</td>\n",
       "      <td>125.640314</td>\n",
       "      <td>125.790268</td>\n",
       "      <td>214176700</td>\n",
       "      <td>0.0</td>\n",
       "      <td>0.0</td>\n",
       "      <td>2024-07-05</td>\n",
       "    </tr>\n",
       "  </tbody>\n",
       "</table>\n",
       "</div>"
      ],
      "text/plain": [
       "         Open        High         Low       Close     Volume  Dividends  \\\n",
       "0  124.540657  127.669665  122.711233  123.500984  315516700        0.0   \n",
       "1  123.431010  124.800573  118.792476  124.260750  284885500        0.0   \n",
       "2  121.091749  123.371036  120.991782  122.631264  218374000        0.0   \n",
       "3  121.621582  128.239487  121.321674  128.239487  215749000        0.0   \n",
       "4  127.339774  128.809319  125.640314  125.790268  214176700        0.0   \n",
       "\n",
       "   Stock Splits        date  \n",
       "0           0.0  2024-06-28  \n",
       "1           0.0  2024-07-01  \n",
       "2           0.0  2024-07-02  \n",
       "3           0.0  2024-07-03  \n",
       "4           0.0  2024-07-05  "
      ]
     },
     "execution_count": 20,
     "metadata": {},
     "output_type": "execute_result"
    }
   ],
   "source": [
    "df.head()"
   ]
  },
  {
   "cell_type": "code",
   "execution_count": null,
   "id": "e46c3e68",
   "metadata": {},
   "outputs": [],
   "source": []
  }
 ],
 "metadata": {
  "kernelspec": {
   "display_name": "Python 3",
   "language": "python",
   "name": "python3"
  },
  "language_info": {
   "codemirror_mode": {
    "name": "ipython",
    "version": 3
   },
   "file_extension": ".py",
   "mimetype": "text/x-python",
   "name": "python",
   "nbconvert_exporter": "python",
   "pygments_lexer": "ipython3",
   "version": "3.11.0"
  }
 },
 "nbformat": 4,
 "nbformat_minor": 5
}
